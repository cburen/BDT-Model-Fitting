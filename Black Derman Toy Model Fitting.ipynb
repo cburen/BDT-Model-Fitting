{
 "cells": [
  {
   "cell_type": "code",
   "execution_count": 112,
   "id": "ca76b0c1",
   "metadata": {},
   "outputs": [],
   "source": [
    "import pandas as pd  \n",
    "import numpy as np\n",
    "from gekko import GEKKO\n",
    "from math import e\n",
    "import warnings\n",
    "warnings.filterwarnings(\"ignore\")"
   ]
  },
  {
   "cell_type": "code",
   "execution_count": 113,
   "id": "78405f3e",
   "metadata": {},
   "outputs": [],
   "source": [
    "term_structure = [0.9724765, ###term_structure[0] corresponds to the D(T) value for D(0.5)\n",
    "0.9445693, ###term_structure[1] corresponds to the D(T) value for D(1.0)\n",
    "0.9163238,\n",
    "0.8879337,\n",
    "0.8597406,\n",
    "0.8320438,\n",
    "0.805077,\n",
    "0.7789041,\n",
    "0.7534803,\n",
    "0.7287341,\n",
    "0.70458,\n",
    "0.6810105,\n",
    "0.6580423,\n",
    "0.6356925,\n",
    "0.613977,\n",
    "0.5929047,\n",
    "0.5724819,\n",
    "0.5527129,\n",
    "0.533601,\n",
    "0.5151482,\n",
    "0.4973522,\n",
    "0.480198,\n",
    "0.4636652,\n",
    "0.4477312,\n",
    "0.4323713,\n",
    "0.4175595,\n",
    "0.4032682,\n",
    "0.3894683,\n",
    "0.3761301,\n",
    "0.363223]"
   ]
  },
  {
   "cell_type": "code",
   "execution_count": 114,
   "id": "cc256795",
   "metadata": {},
   "outputs": [],
   "source": [
    "vol_data = [0.1, ### vol_data[0] corresponds to the vol value for D(1.0)\n",
    "0.12, ### vol_data[1] corresponds to the vol value for D(1.5)\n",
    "0.135,\n",
    "0.15,\n",
    "0.16,\n",
    "0.162,\n",
    "0.164,\n",
    "0.162,\n",
    "0.16,\n",
    "0.157,\n",
    "0.154,\n",
    "0.151,\n",
    "0.148,\n",
    "0.145,\n",
    "0.142,\n",
    "0.139,\n",
    "0.136,\n",
    "0.133,\n",
    "0.13,\n",
    "0.127,\n",
    "0.125,\n",
    "0.123,\n",
    "0.12,\n",
    "0.118,\n",
    "0.116,\n",
    "0.114,\n",
    "0.112,\n",
    "0.11,\n",
    "0.108]"
   ]
  },
  {
   "cell_type": "code",
   "execution_count": 115,
   "id": "9c023cd8",
   "metadata": {},
   "outputs": [],
   "source": [
    "df = pd.DataFrame()  \n",
    "df['term_structure'] = term_structure"
   ]
  },
  {
   "cell_type": "code",
   "execution_count": 116,
   "id": "217d0696",
   "metadata": {},
   "outputs": [],
   "source": [
    "tree = pd.DataFrame()"
   ]
  },
  {
   "cell_type": "code",
   "execution_count": 117,
   "id": "0a70813c",
   "metadata": {},
   "outputs": [],
   "source": [
    "### have to initialize dataframe with 31 rows to fit the entire tree\n",
    "list = [np.NaN]\n",
    "temp_list = 31*list\n",
    "tree['0'] = temp_list"
   ]
  },
  {
   "cell_type": "code",
   "execution_count": 118,
   "id": "18cae053",
   "metadata": {},
   "outputs": [],
   "source": [
    "### adding in the other columns\n",
    "temp_list2 = []\n",
    "for i in range(1, 31):\n",
    "    temp_list2.append(str(i))\n",
    "temp_df = pd.DataFrame(columns=temp_list2)\n",
    "tree = tree.join(temp_df, how=\"outer\")"
   ]
  },
  {
   "cell_type": "code",
   "execution_count": 124,
   "id": "8a7618e8",
   "metadata": {},
   "outputs": [
    {
     "name": "stdout",
     "output_type": "stream",
     "text": [
      "0.056603786577\n"
     ]
    }
   ],
   "source": [
    "### D(0.5) = $1 / (1 + r/2), r = 6mt rate today, back out r vvvv\n",
    "m = GEKKO()\n",
    "r1 = m.Var()\n",
    "m.Equation(df['term_structure'][0] == 1 / (1 + r1/2))\n",
    "m.solve(disp = False)\n",
    "tree['1'][0] = r1.value[0]\n",
    "print(r1.value[0]) ### must treat r1.value as a list to get solution into float"
   ]
  },
  {
   "cell_type": "code",
   "execution_count": 125,
   "id": "adff5649",
   "metadata": {},
   "outputs": [
    {
     "name": "stdout",
     "output_type": "stream",
     "text": [
      "ru =  0.063269915497\n",
      "rd =  0.05492609704411437\n"
     ]
    }
   ],
   "source": [
    "### D(1.0) = (1 / (1 + r/2)) * (0.5 * (1 / (1 + ru/2)) + 0.5 * (1 / (1 + rd/2)))\n",
    "m = GEKKO()\n",
    "ru = m.Var()\n",
    "rd = ru * (e**(-2 * vol_data[0] * 0.70710678))\n",
    "m.Equation(df['term_structure'][1] == (1 / (1 + r1[0]/2)) * (0.5 * (1 / (1 + ru/2)) + 0.5 * (1 / (1 + rd/2))))\n",
    "m.solve(disp = False)\n",
    "print(\"ru = \", ru.value[0]) ### must treat r1.value as a list to get solution into float\n",
    "print('rd = ', ru[0] * (e**(-2 * vol_data[0] * 0.70710678)))\n",
    "tree['2'][0] = ru.value[0]\n",
    "tree['2'][1] = ru[0] * (e**(-2 * vol_data[0] * 0.70710678))\n"
   ]
  },
  {
   "cell_type": "code",
   "execution_count": 126,
   "id": "ae85ef06",
   "metadata": {},
   "outputs": [
    {
     "ename": "SyntaxError",
     "evalue": "invalid syntax (Temp/ipykernel_13692/3833544958.py, line 16)",
     "output_type": "error",
     "traceback": [
      "\u001b[1;36m  File \u001b[1;32m\"C:\\Users\\cbure\\AppData\\Local\\Temp/ipykernel_13692/3833544958.py\"\u001b[1;36m, line \u001b[1;32m16\u001b[0m\n\u001b[1;33m    r_list.append(r * e**(-coef_2 * vol_data[] * 0.70710678))  ### sqrt(0.5) = 0.70710678\u001b[0m\n\u001b[1;37m                                             ^\u001b[0m\n\u001b[1;31mSyntaxError\u001b[0m\u001b[1;31m:\u001b[0m invalid syntax\n"
     ]
    }
   ],
   "source": [
    "def avg_r_computer(index):\n",
    "    \"\"\"\n",
    "    avg_r_computer assigns an average equation used in BDT model to a variable\n",
    "    :param index: the name of the column/period in tree being computed, D(T) = D(index/2)\n",
    "    \"\"\"\n",
    "    \n",
    "    temp_range = 2**(index - 2)\n",
    "    coef = (1/2)**(index - 1)\n",
    "    m = GEKKO()\n",
    "    r = m.Var() ### this is r*\n",
    "    r_list = [r] ### this is a list of all the ruuu, ruud, rudd... in terms of r \n",
    "    \n",
    "    temp_index = temp_range - 1\n",
    "    for i in range(temp_index):\n",
    "        coef_2 = 2*temp_index + 2\n",
    "        r_list.append(r * e**(-coef_2 * vol_data[] * 0.70710678))  ### sqrt(0.5) = 0.70710678\n",
    "    \n",
    "    for i in range(temp_range): ### this calculates the avg equation most inside, at the index th level\n",
    "        if(i = 0):\n",
    "            \n",
    "            exec(\"var\" + str(i) + \" = (coef/(1 + tree[index - 1][i]) + coef/(1 + tree[index - 1][i - 1]))\")\n",
    "        \n",
    "for x in range(9):\n",
    "    exec(\"string\" + str(x) + \" = 'hello'\")"
   ]
  },
  {
   "cell_type": "code",
   "execution_count": null,
   "id": "73b72ac9",
   "metadata": {},
   "outputs": [],
   "source": [
    "def r_star_generator(index):\n",
    "    \"\"\"\n",
    "    r_star_generator computes r* given the column # of tree BUT must be done in numerical order, only starting from column/index 3 (D(1.5))\n",
    "    :param index: the name of the column/period in tree being computed, D(T) = D(index/2)\n",
    "    \"\"\"\n",
    "    m = GEKKO()\n",
    "    j = 1 ### this value is meant to create new c# values below\n",
    "    c1 = 1 ### initialize these c values\n",
    "    c2 = 1\n",
    "    ### tree['2'][0] = ru, tree['2'][1] = rd\n",
    "    old_temp_list = [c1, c2]\n",
    "                    \n",
    "                                  \n",
    "    for i in range(index - 1): ### range(index - 1) is the number of 'levels' deep we go with the c variables   \n",
    "                                  \n",
    "        if(i == index - 2):\n",
    "            fraction = 0.5**(index - 1)\n",
    "            for o in range(len(old_temp_list)):\n",
    "                old_temp_list[o] = fraction\n",
    "            break \n",
    "        else: \n",
    "            ### create/initialize the c's and update the j value\n",
    "            temp_range2 = 2 ** (i + 2)\n",
    "            new_temp_list = []\n",
    "            for k in range(temp_range2): \n",
    "                exec(\"c\" + str(j) + \" = 1\")\n",
    "                new_temp_list.append(exec(\"c\" + str(j)))\n",
    "                j += 1\n",
    "                          \n",
    "                                     \n",
    "            ### create list of ruu, rud, etc. in terms of r*\n",
    "            r_star = m.Var()\n",
    "            r_list = [r_star]\n",
    "            for b in range(len(new_temp_list)):\n",
    "                r_list.append(r_star * e**(-(2*b + 2) * vol_data[i + 1] * 0.70710678)) ### sqrt(0.5) = 0.70710678\n",
    "                           \n",
    "                                     \n",
    "            ### set c's equal to lower levels (including the above c's)\n",
    "            w = 0\n",
    "            for o in range(len(old_temp_list)):\n",
    "                old_temp_list[o] = new_temp_list[2*w]*(1 / (1 + r_list[2*o]/2)) + new_temp_list[2*w + 1]*(1 / (1 + r_list[2*o + 1]/2))\n",
    "                w += 1\n",
    "            old_temp_list = new_temp_list\n",
    "\n",
    "    print(c1)\n",
    "    m.Equation(term_structure[index - 1] == 1 / (1 + tree['1'][0]) * (c1 * (1 / (1 + tree['2'][0]/2)) + c2 * (1 / (1 + tree['2'][1]/2))))\n",
    "    m.solve(disp = False)\n",
    "    return(r_star[0])\n"
   ]
  },
  {
   "cell_type": "code",
   "execution_count": null,
   "id": "1f37b054",
   "metadata": {},
   "outputs": [],
   "source": [
    "m = GEKKO()\n",
    "y1 = m.Var()\n",
    "y654 = m.Var()\n",
    "y1 = 5\n",
    "x = y1 * y654\n",
    "i_list = [y1, y2]\n",
    "print(x)"
   ]
  },
  {
   "cell_type": "code",
   "execution_count": null,
   "id": "de1e631b",
   "metadata": {},
   "outputs": [],
   "source": [
    "r_star_generator(2)"
   ]
  },
  {
   "cell_type": "code",
   "execution_count": 127,
   "id": "4e40465f",
   "metadata": {},
   "outputs": [],
   "source": [
    "def treeBuilder(index):\n",
    "    \"\"\"\n",
    "    treeBuilder enters each r value for time 'index' into the correct column of tree dataframe\n",
    "    :param index: the name of the column/period in tree being computed, T = index/2, D(T) \n",
    "    \"\"\"\n",
    "    fraction = 0.5**(index - 1)\n",
    "    \n",
    "    "
   ]
  },
  {
   "cell_type": "code",
   "execution_count": 128,
   "id": "4b7675a0",
   "metadata": {},
   "outputs": [
    {
     "name": "stdout",
     "output_type": "stream",
     "text": [
      "     0         1         2    3    4    5    6    7    8    9  ...   21   22  \\\n",
      "0  NaN  0.056604   0.06327  NaN  NaN  NaN  NaN  NaN  NaN  NaN  ...  NaN  NaN   \n",
      "1  NaN       NaN  0.054926  NaN  NaN  NaN  NaN  NaN  NaN  NaN  ...  NaN  NaN   \n",
      "2  NaN       NaN       NaN  NaN  NaN  NaN  NaN  NaN  NaN  NaN  ...  NaN  NaN   \n",
      "3  NaN       NaN       NaN  NaN  NaN  NaN  NaN  NaN  NaN  NaN  ...  NaN  NaN   \n",
      "4  NaN       NaN       NaN  NaN  NaN  NaN  NaN  NaN  NaN  NaN  ...  NaN  NaN   \n",
      "5  NaN       NaN       NaN  NaN  NaN  NaN  NaN  NaN  NaN  NaN  ...  NaN  NaN   \n",
      "6  NaN       NaN       NaN  NaN  NaN  NaN  NaN  NaN  NaN  NaN  ...  NaN  NaN   \n",
      "7  NaN       NaN       NaN  NaN  NaN  NaN  NaN  NaN  NaN  NaN  ...  NaN  NaN   \n",
      "8  NaN       NaN       NaN  NaN  NaN  NaN  NaN  NaN  NaN  NaN  ...  NaN  NaN   \n",
      "9  NaN       NaN       NaN  NaN  NaN  NaN  NaN  NaN  NaN  NaN  ...  NaN  NaN   \n",
      "10 NaN       NaN       NaN  NaN  NaN  NaN  NaN  NaN  NaN  NaN  ...  NaN  NaN   \n",
      "11 NaN       NaN       NaN  NaN  NaN  NaN  NaN  NaN  NaN  NaN  ...  NaN  NaN   \n",
      "12 NaN       NaN       NaN  NaN  NaN  NaN  NaN  NaN  NaN  NaN  ...  NaN  NaN   \n",
      "13 NaN       NaN       NaN  NaN  NaN  NaN  NaN  NaN  NaN  NaN  ...  NaN  NaN   \n",
      "14 NaN       NaN       NaN  NaN  NaN  NaN  NaN  NaN  NaN  NaN  ...  NaN  NaN   \n",
      "15 NaN       NaN       NaN  NaN  NaN  NaN  NaN  NaN  NaN  NaN  ...  NaN  NaN   \n",
      "16 NaN       NaN       NaN  NaN  NaN  NaN  NaN  NaN  NaN  NaN  ...  NaN  NaN   \n",
      "17 NaN       NaN       NaN  NaN  NaN  NaN  NaN  NaN  NaN  NaN  ...  NaN  NaN   \n",
      "18 NaN       NaN       NaN  NaN  NaN  NaN  NaN  NaN  NaN  NaN  ...  NaN  NaN   \n",
      "19 NaN       NaN       NaN  NaN  NaN  NaN  NaN  NaN  NaN  NaN  ...  NaN  NaN   \n",
      "20 NaN       NaN       NaN  NaN  NaN  NaN  NaN  NaN  NaN  NaN  ...  NaN  NaN   \n",
      "21 NaN       NaN       NaN  NaN  NaN  NaN  NaN  NaN  NaN  NaN  ...  NaN  NaN   \n",
      "22 NaN       NaN       NaN  NaN  NaN  NaN  NaN  NaN  NaN  NaN  ...  NaN  NaN   \n",
      "23 NaN       NaN       NaN  NaN  NaN  NaN  NaN  NaN  NaN  NaN  ...  NaN  NaN   \n",
      "24 NaN       NaN       NaN  NaN  NaN  NaN  NaN  NaN  NaN  NaN  ...  NaN  NaN   \n",
      "25 NaN       NaN       NaN  NaN  NaN  NaN  NaN  NaN  NaN  NaN  ...  NaN  NaN   \n",
      "26 NaN       NaN       NaN  NaN  NaN  NaN  NaN  NaN  NaN  NaN  ...  NaN  NaN   \n",
      "27 NaN       NaN       NaN  NaN  NaN  NaN  NaN  NaN  NaN  NaN  ...  NaN  NaN   \n",
      "28 NaN       NaN       NaN  NaN  NaN  NaN  NaN  NaN  NaN  NaN  ...  NaN  NaN   \n",
      "29 NaN       NaN       NaN  NaN  NaN  NaN  NaN  NaN  NaN  NaN  ...  NaN  NaN   \n",
      "30 NaN       NaN       NaN  NaN  NaN  NaN  NaN  NaN  NaN  NaN  ...  NaN  NaN   \n",
      "\n",
      "     23   24   25   26   27   28   29   30  \n",
      "0   NaN  NaN  NaN  NaN  NaN  NaN  NaN  NaN  \n",
      "1   NaN  NaN  NaN  NaN  NaN  NaN  NaN  NaN  \n",
      "2   NaN  NaN  NaN  NaN  NaN  NaN  NaN  NaN  \n",
      "3   NaN  NaN  NaN  NaN  NaN  NaN  NaN  NaN  \n",
      "4   NaN  NaN  NaN  NaN  NaN  NaN  NaN  NaN  \n",
      "5   NaN  NaN  NaN  NaN  NaN  NaN  NaN  NaN  \n",
      "6   NaN  NaN  NaN  NaN  NaN  NaN  NaN  NaN  \n",
      "7   NaN  NaN  NaN  NaN  NaN  NaN  NaN  NaN  \n",
      "8   NaN  NaN  NaN  NaN  NaN  NaN  NaN  NaN  \n",
      "9   NaN  NaN  NaN  NaN  NaN  NaN  NaN  NaN  \n",
      "10  NaN  NaN  NaN  NaN  NaN  NaN  NaN  NaN  \n",
      "11  NaN  NaN  NaN  NaN  NaN  NaN  NaN  NaN  \n",
      "12  NaN  NaN  NaN  NaN  NaN  NaN  NaN  NaN  \n",
      "13  NaN  NaN  NaN  NaN  NaN  NaN  NaN  NaN  \n",
      "14  NaN  NaN  NaN  NaN  NaN  NaN  NaN  NaN  \n",
      "15  NaN  NaN  NaN  NaN  NaN  NaN  NaN  NaN  \n",
      "16  NaN  NaN  NaN  NaN  NaN  NaN  NaN  NaN  \n",
      "17  NaN  NaN  NaN  NaN  NaN  NaN  NaN  NaN  \n",
      "18  NaN  NaN  NaN  NaN  NaN  NaN  NaN  NaN  \n",
      "19  NaN  NaN  NaN  NaN  NaN  NaN  NaN  NaN  \n",
      "20  NaN  NaN  NaN  NaN  NaN  NaN  NaN  NaN  \n",
      "21  NaN  NaN  NaN  NaN  NaN  NaN  NaN  NaN  \n",
      "22  NaN  NaN  NaN  NaN  NaN  NaN  NaN  NaN  \n",
      "23  NaN  NaN  NaN  NaN  NaN  NaN  NaN  NaN  \n",
      "24  NaN  NaN  NaN  NaN  NaN  NaN  NaN  NaN  \n",
      "25  NaN  NaN  NaN  NaN  NaN  NaN  NaN  NaN  \n",
      "26  NaN  NaN  NaN  NaN  NaN  NaN  NaN  NaN  \n",
      "27  NaN  NaN  NaN  NaN  NaN  NaN  NaN  NaN  \n",
      "28  NaN  NaN  NaN  NaN  NaN  NaN  NaN  NaN  \n",
      "29  NaN  NaN  NaN  NaN  NaN  NaN  NaN  NaN  \n",
      "30  NaN  NaN  NaN  NaN  NaN  NaN  NaN  NaN  \n",
      "\n",
      "[31 rows x 31 columns]\n"
     ]
    }
   ],
   "source": [
    "print(tree)"
   ]
  },
  {
   "cell_type": "code",
   "execution_count": null,
   "id": "c4da6c1d",
   "metadata": {},
   "outputs": [],
   "source": []
  }
 ],
 "metadata": {
  "kernelspec": {
   "display_name": "Python 3 (ipykernel)",
   "language": "python",
   "name": "python3"
  },
  "language_info": {
   "codemirror_mode": {
    "name": "ipython",
    "version": 3
   },
   "file_extension": ".py",
   "mimetype": "text/x-python",
   "name": "python",
   "nbconvert_exporter": "python",
   "pygments_lexer": "ipython3",
   "version": "3.9.6"
  }
 },
 "nbformat": 4,
 "nbformat_minor": 5
}
